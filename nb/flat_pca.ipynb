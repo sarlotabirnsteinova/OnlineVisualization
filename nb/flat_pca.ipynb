{
 "cells": [
  {
   "cell_type": "code",
   "execution_count": null,
   "metadata": {},
   "outputs": [],
   "source": [
    "import os\n",
    "import time\n",
    "import numpy as np\n",
    "\n",
    "import matplotlib.pyplot as plt\n",
    "\n",
    "from extra_data import open_run, RunDirectory, H5File\n",
    "from extra_data.read_machinery import find_proposal\n",
    "\n",
    "import sys\n",
    "sys.path.append('../src')\n",
    "\n",
    "from dffc.constants import (\n",
    "    process_dark, process_flat, process_flat_orig,\n",
    "    process_flat_linear, write_constants\n",
    ")\n",
    "from dffc.draw import plot_images"
   ]
  },
  {
   "cell_type": "code",
   "execution_count": null,
   "metadata": {},
   "outputs": [],
   "source": [
    "propno = 2919\n",
    "runno_dark = 59\n",
    "runno_flat = 40\n",
    "\n",
    "camno = 2\n",
    "n_components = 20\n",
    "\n",
    "cam_source = f\"SPB_EHD_HPVX2_{camno}/CAM/CAMERA:daqOutput\"\n",
    "\n",
    "propdir = find_proposal(f\"p{propno:06d}\")\n",
    "rundir_dark = os.path.join(propdir, f\"raw/r{runno_dark:04d}\")\n",
    "rundir_flat = os.path.join(propdir, f\"raw/r{runno_flat:04d}\")\n",
    "\n",
    "print(\"Proposal directory:\", propdir)\n",
    "print(\"Dark run directory:\", rundir_dark)\n",
    "print(\"Flat run directory:\", rundir_flat)\n",
    "print(\"Camera source:\", cam_source)"
   ]
  },
  {
   "cell_type": "code",
   "execution_count": null,
   "metadata": {},
   "outputs": [],
   "source": [
    "tm0 = time.monotonic()\n",
    "run_dark = RunDirectory(rundir_dark)\n",
    "images_dark = run_dark[cam_source, \"data.image.pixels\"].ndarray()\n",
    "ntrain, npulse, ny, nx = images_dark.shape\n",
    "tm_rd = time.monotonic() - tm0\n",
    "\n",
    "tm0 = time.monotonic()\n",
    "dark = process_dark(images_dark)\n",
    "tm_cm = time.monotonic() - tm0\n",
    "\n",
    "print(f\"N image: {ntrain * npulse} (ntrain: {ntrain}, npulse: {npulse})\")\n",
    "print(f\"Image size: {ny} x {nx} px\")\n",
    "print(f\"Read time: {tm_rd:.2f} s, comp time: {tm_cm:.2f}\")\n",
    "\n",
    "im = plt.matshow(dark)\n",
    "plt.colorbar(im)\n",
    "plt.show()"
   ]
  },
  {
   "cell_type": "code",
   "execution_count": null,
   "metadata": {},
   "outputs": [],
   "source": [
    "tm0 = time.monotonic()\n",
    "run_flat = RunDirectory(rundir_flat)\n",
    "images_flat = run_flat[cam_source, \"data.image.pixels\"].ndarray()\n",
    "ntrain, npulse, ny, nx = images_flat.shape\n",
    "tm_rd = time.monotonic() - tm0\n",
    "\n",
    "tm0 = time.monotonic()\n",
    "flat, components, explained_variance_ratio = process_flat_orig(\n",
    "    images_flat, n_components)\n",
    "tm_cm = time.monotonic() - tm0\n",
    "\n",
    "print(f\"N image: {ntrain * npulse} (ntrain: {ntrain}, npulse: {npulse})\")\n",
    "print(f\"Image size: {ny} x {nx} px\")\n",
    "print(f\"Read time: {tm_rd:.2f} s, comp time: {tm_cm:.2f}\")\n",
    "\n",
    "fig, (ax1, ax2) = plt.subplots(1, 2, figsize=(16,5))\n",
    "ax1.matshow(flat)\n",
    "ax2.plot(explained_variance_ratio, 'o')\n",
    "plt.show()"
   ]
  },
  {
   "cell_type": "code",
   "execution_count": null,
   "metadata": {},
   "outputs": [],
   "source": [
    "fn = f\"pca_cam{camno}_d{runno_dark}_f{runno_flat}_r{n_components}_orig.h5\"\n",
    "write_constants(fn, cam_source, dark, flat, components, explained_variance_ratio)"
   ]
  },
  {
   "cell_type": "code",
   "execution_count": null,
   "metadata": {},
   "outputs": [],
   "source": [
    "plot_images(components[:20])\n",
    "plt.show()\n",
    "print(np.mean(components, axis=(1,2)))\n",
    "print(np.std(components, axis=(1,2)))"
   ]
  },
  {
   "cell_type": "code",
   "execution_count": null,
   "metadata": {},
   "outputs": [],
   "source": [
    "tm0 = time.monotonic()\n",
    "flat, components, explained_variance_ratio = process_flat(images_flat, dark)\n",
    "tm_cm = time.monotonic() - tm0\n",
    "\n",
    "print(f\"N image: {ntrain * npulse} (ntrain: {ntrain}, npulse: {npulse})\")\n",
    "print(f\"Image size: {ny} x {nx} px\")\n",
    "print(f\"Read time: {tm_rd:.2f} s, comp time: {tm_cm:.2f}\")\n",
    "\n",
    "fig, (ax1, ax2) = plt.subplots(1, 2, figsize=(16,5))\n",
    "ax1.matshow(flat)\n",
    "ax2.plot(explained_variance_ratio, 'o')\n",
    "plt.show()"
   ]
  },
  {
   "cell_type": "code",
   "execution_count": null,
   "metadata": {},
   "outputs": [],
   "source": [
    "plot_images(components[:20])\n",
    "plt.show()\n",
    "print(np.mean(components, axis=(1,2)))\n",
    "print(np.std(components, axis=(1,2)))"
   ]
  },
  {
   "cell_type": "code",
   "execution_count": null,
   "metadata": {},
   "outputs": [],
   "source": [
    "fn = f\"pca_cam{camno}_d{runno_dark}_f{runno_flat}_r{n_components}.h5\"\n",
    "write_constants(fn, cam_source, dark, flat, components, explained_variance_ratio)"
   ]
  },
  {
   "cell_type": "code",
   "execution_count": null,
   "metadata": {},
   "outputs": [],
   "source": [
    "tm0 = time.monotonic()\n",
    "flat, components, explained_variance_ratio = process_flat_linear(images_flat, dark, n_components)\n",
    "tm_cm = time.monotonic() - tm0\n",
    "\n",
    "print(f\"N image: {ntrain * npulse} (ntrain: {ntrain}, npulse: {npulse})\")\n",
    "print(f\"Image size: {nx} x {ny} px\")\n",
    "print(f\"Read time: {tm_rd:.2f} s, comp time: {tm_cm:.2f}\")\n",
    "\n",
    "fig, (ax1, ax2) = plt.subplots(1, 2, figsize=(16,5))\n",
    "ax1.matshow(flat)\n",
    "ax2.plot(explained_variance_ratio, 'o')\n",
    "plt.show()"
   ]
  },
  {
   "cell_type": "code",
   "execution_count": null,
   "metadata": {},
   "outputs": [],
   "source": [
    "fn = f\"pca_cam{camno}_d{runno_dark}_f{runno_flat}_r{n_components}_linear.h5\"\n",
    "write_constants(fn, cam_source, dark, flat, components, explained_variance_ratio)"
   ]
  },
  {
   "cell_type": "code",
   "execution_count": null,
   "metadata": {},
   "outputs": [],
   "source": [
    "plot_images(components[:20])\n",
    "plt.show()\n",
    "print(np.mean(components, axis=(1,2)))\n",
    "print(np.std(components, axis=(1,2)))"
   ]
  },
  {
   "cell_type": "code",
   "execution_count": null,
   "metadata": {},
   "outputs": [],
   "source": [
    "plot_images((images_flat - dark).reshape(-1, ny, nx)[5:128*20+5:128])\n",
    "plt.show()"
   ]
  },
  {
   "cell_type": "code",
   "execution_count": null,
   "metadata": {},
   "outputs": [],
   "source": []
  }
 ],
 "metadata": {
  "kernelspec": {
   "display_name": "Python 3 (ipykernel)",
   "language": "python",
   "name": "python3"
  },
  "language_info": {
   "codemirror_mode": {
    "name": "ipython",
    "version": 3
   },
   "file_extension": ".py",
   "mimetype": "text/x-python",
   "name": "python",
   "nbconvert_exporter": "python",
   "pygments_lexer": "ipython3",
   "version": "3.7.3"
  }
 },
 "nbformat": 4,
 "nbformat_minor": 4
}
