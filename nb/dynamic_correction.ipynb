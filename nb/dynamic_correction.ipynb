{
 "cells": [
  {
   "cell_type": "code",
   "execution_count": null,
   "id": "6e2218d0",
   "metadata": {
    "scrolled": false
   },
   "outputs": [],
   "source": [
    "import os\n",
    "import h5py\n",
    "import time\n",
    "\n",
    "import numpy as np\n",
    "import matplotlib.pyplot as plt\n",
    "\n",
    "from extra_data import open_run, RunDirectory, H5File\n",
    "from extra_data.read_machinery import find_proposal\n",
    "\n",
    "import sys\n",
    "sys.path.append('../src')\n",
    "\n",
    "from dffc import DynamicFlatFieldCorrectionCython as DynamicFlatFieldCorrection"
   ]
  },
  {
   "cell_type": "code",
   "execution_count": null,
   "id": "845738d5",
   "metadata": {},
   "outputs": [],
   "source": [
    "def plot_corrected(im1, im2, labels):\n",
    "    fig, ((ax1, ax2), (ax3, ax4)) = plt.subplots(2, 2, figsize=(16, 8.5), tight_layout=True)\n",
    "\n",
    "    i1 = ax1.matshow(im1)\n",
    "    ax1.axis(False)\n",
    "    fig.colorbar(i1, ax=ax1)\n",
    "    ax1.set_title(labels[0])\n",
    "    \n",
    "    i2 = ax2.matshow(im2)\n",
    "    ax2.axis(False)\n",
    "    fig.colorbar(i2, ax=ax2)\n",
    "    ax2.set_title(labels[1])\n",
    "    \n",
    "    i3 = ax3.matshow(im1/im1.mean() - im2/im2.mean())\n",
    "    ax3.axis(False)\n",
    "    fig.colorbar(i3, ax=ax3)\n",
    "    ax3.set_title('Difference')\n",
    "    \n",
    "    ax4.axis(False)"
   ]
  },
  {
   "cell_type": "code",
   "execution_count": null,
   "id": "52bbd286",
   "metadata": {},
   "outputs": [],
   "source": [
    "propno = 2919\n",
    "runno_dark = 59\n",
    "runno_flat = 40\n",
    "\n",
    "camno = 2\n",
    "n_components = 20\n",
    "\n",
    "downsample_factors = (2, 4)\n",
    "\n",
    "cam_source = f\"SPB_EHD_HPVX2_{camno}/CAM/CAMERA:daqOutput\""
   ]
  },
  {
   "cell_type": "code",
   "execution_count": null,
   "id": "8a062a6d",
   "metadata": {},
   "outputs": [],
   "source": [
    "runno = 30\n",
    "\n",
    "propdir = find_proposal(f\"p{propno:06d}\")\n",
    "rundir = os.path.join(propdir, f\"raw/r{runno:04d}\")\n",
    "\n",
    "tm0 = time.monotonic()\n",
    "run = RunDirectory(rundir)\n",
    "images = run[cam_source, \"data.image.pixels\"].ndarray()\n",
    "ntrain, npulse, nx, ny = images.shape\n",
    "tm1 = time.monotonic()\n",
    "\n",
    "print(f\"Ntrain: {ntrain}, Npulse: {npulse}, Image size: {nx} x {ny}\")\n",
    "print(f\"N image: {ntrain * npulse}\")\n",
    "print(f\"Read time: {tm1 - tm0:.2f} s\")"
   ]
  },
  {
   "cell_type": "code",
   "execution_count": null,
   "id": "82c12dc1",
   "metadata": {
    "scrolled": false
   },
   "outputs": [],
   "source": [
    "\n",
    "fn = f\"pca_cam{camno}_d{runno_dark}_f{runno_flat}_r{n_components}.h5\"\n",
    "dffc = DynamicFlatFieldCorrection.from_file(fn, cam_source, downsample_factors)\n",
    "\n",
    "tm0 = time.monotonic()\n",
    "imcorr1, w1, warnflag1 = dffc.process(images[0])\n",
    "tm1 = time.monotonic()\n",
    "\n",
    "print(f\"Correction time: {tm1 - tm0: .2f} s, per image: {(tm1 - tm0)/128: .2f} s\")"
   ]
  },
  {
   "cell_type": "code",
   "execution_count": null,
   "id": "7dcfd842",
   "metadata": {},
   "outputs": [],
   "source": [
    "i = 1\n",
    "#image0, flat0 = dffc.scale_and_shift(images[0, i])\n",
    "image0 = dffc.scale_and_shift(images[0, i])\n",
    "\n",
    "plot_corrected(imcorr1[i], image0 / dffc.flat, ('Dynamic', 'Static'))\n",
    "plt.show()\n",
    "\n",
    "print(np.mean(imcorr1[i]), np.mean(image0 / dffc.flat))"
   ]
  },
  {
   "cell_type": "code",
   "execution_count": null,
   "id": "36423fc0",
   "metadata": {},
   "outputs": [],
   "source": [
    "from skimage.transform import downscale_local_mean\n",
    "\n",
    "class DynamicFlatFieldCorrectionOrig(DynamicFlatFieldCorrection):\n",
    "    def downsample_scale_and_shift(self, image):\n",
    "        image_ds = downscale_local_mean(image, self.downsample_factors)\n",
    "        return image_ds - self.dark_ds\n",
    "\n",
    "    def scale_and_shift(self, image):\n",
    "        return image - self.dark\n",
    "    \n",
    "    def correct_dyn(self, w, image):\n",
    "        image0 = self.scale_and_shift(image)\n",
    "        flat_dyn = self.flat + np.sum(w[:, None, None] * self.components, 0)\n",
    "        #flat_dyn = self.flat + np.sum(w[None, None, :] * self.components, 2)\n",
    "        image_corr = image0 / flat_dyn\n",
    "        return image_corr / np.mean(image_corr) * np.mean(image0 / self.flat)\n"
   ]
  },
  {
   "cell_type": "code",
   "execution_count": null,
   "id": "9a3350b4",
   "metadata": {},
   "outputs": [],
   "source": [
    "fn = f\"pca_cam{camno}_d{runno_dark}_f{runno_flat}_r{n_components}_orig.h5\"\n",
    "dffc_orig = DynamicFlatFieldCorrectionOrig.from_file(fn, cam_source, downsample_factors)\n",
    "\n",
    "tm0 = time.monotonic()\n",
    "imcorr2, w2, warnflag2 = dffc_orig.process(images[0])\n",
    "tm1 = time.monotonic()\n",
    "\n",
    "print(f\"Correction time: {tm1 - tm0: .2f} s, per image: {(tm1 - tm0)/128: .2f} s\")"
   ]
  },
  {
   "cell_type": "code",
   "execution_count": null,
   "id": "a787ef8c",
   "metadata": {},
   "outputs": [],
   "source": [
    "i = 1\n",
    "image0 = dffc_orig.scale_and_shift(images[0, i])\n",
    "plot_corrected(imcorr2[i], image0 / dffc_orig.flat, ('Dynamic', 'Static'))\n",
    "plt.show()\n",
    "\n",
    "print(np.mean(imcorr2[i]), np.mean(image0 / dffc_orig.flat))"
   ]
  },
  {
   "cell_type": "code",
   "execution_count": null,
   "id": "056d5b63",
   "metadata": {},
   "outputs": [],
   "source": [
    "import sys\n",
    "sys.path.append('../onlineVisual_OnNorm')\n",
    "from dffc_functions_online import *"
   ]
  },
  {
   "cell_type": "code",
   "execution_count": null,
   "id": "555bad5b",
   "metadata": {},
   "outputs": [],
   "source": [
    "\n",
    "nc, ny, nx = dffc_orig.components.shape\n",
    "\n",
    "print(f\"Image size: {ny} x {nx} px\")\n",
    "print(f\"N components: {nc}\")\n",
    "\n",
    "pca_info = {\n",
    "    'rank': nc,\n",
    "    'image_dimensions': (nx, ny),\n",
    "    'mean_flat': dffc_orig.flat,\n",
    "    'mean_dark': dffc_orig.dark,\n",
    "    'components_matrix': dffc_orig.components.reshape(nc, nx * ny),\n",
    "}\n",
    "\n",
    "tm0 = time.monotonic()\n",
    "imcorr3 = dffc_correct(images[0], pca_info, downsample_factors, fctr=10000000000.0, x0_last=False)\n",
    "tm1 = time.monotonic()\n",
    "\n",
    "print(f\"Minimization time: {tm1 - tm0: .2f} s, per image: {(tm1 - tm0)/128: .2f} s\")\n",
    "    "
   ]
  },
  {
   "cell_type": "code",
   "execution_count": null,
   "id": "58974717",
   "metadata": {
    "scrolled": false
   },
   "outputs": [],
   "source": [
    "i = 1\n",
    "image0 = dffc_orig.scale_and_shift(images[0, i])\n",
    "plot_corrected(imcorr3[i], image0 / dffc_orig.flat, ('Dynamic', 'Static'))\n",
    "plt.show()"
   ]
  },
  {
   "cell_type": "code",
   "execution_count": null,
   "id": "2dc5ef43",
   "metadata": {},
   "outputs": [],
   "source": [
    "i = 1\n",
    "plot_corrected(imcorr2[i], imcorr3[i], ('Original new', 'Original old'))\n",
    "plt.show()"
   ]
  },
  {
   "cell_type": "code",
   "execution_count": null,
   "id": "c6576d68",
   "metadata": {},
   "outputs": [],
   "source": [
    "i = 1\n",
    "plot_corrected(imcorr1[i], imcorr2[i], ('New', 'Old'))\n",
    "plt.show()"
   ]
  }
 ],
 "metadata": {
  "kernelspec": {
   "display_name": "Python 3 (ipykernel)",
   "language": "python",
   "name": "python3"
  },
  "language_info": {
   "codemirror_mode": {
    "name": "ipython",
    "version": 3
   },
   "file_extension": ".py",
   "mimetype": "text/x-python",
   "name": "python",
   "nbconvert_exporter": "python",
   "pygments_lexer": "ipython3",
   "version": "3.7.3"
  }
 },
 "nbformat": 4,
 "nbformat_minor": 5
}
