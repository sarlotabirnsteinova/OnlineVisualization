{
 "cells": [
  {
   "cell_type": "code",
   "execution_count": null,
   "id": "7e22cc9e",
   "metadata": {},
   "outputs": [],
   "source": [
    "import os\n",
    "import h5py\n",
    "import time\n",
    "\n",
    "import numpy as np\n",
    "import matplotlib.pyplot as plt\n",
    "\n",
    "from extra_data import open_run, RunDirectory, H5File\n",
    "from extra_data.read_machinery import find_proposal"
   ]
  },
  {
   "cell_type": "code",
   "execution_count": null,
   "id": "b3aaffcc",
   "metadata": {},
   "outputs": [],
   "source": [
    "from dffc.correction import DynamicFlatFieldCorrectionCython as DynamicFlatFieldCorrection\n",
    "from dffc.offline import FlatFieldCorrectionFileProcessor"
   ]
  },
  {
   "cell_type": "code",
   "execution_count": null,
   "id": "2f6aa6db",
   "metadata": {},
   "outputs": [],
   "source": [
    "propno = 2919\n",
    "runno_dark = 59\n",
    "runno_flat = 40\n",
    "\n",
    "camno = 2\n",
    "n_components = 20\n",
    "\n",
    "downsample_factors = (2, 4)\n",
    "\n",
    "fn = f\"pca_cam{camno}_d{runno_dark}_f{runno_flat}_r{n_components}.h5\"\n",
    "karabo_id = f\"SPB_EHD_HPVX2_{camno}\"\n",
    "cam_source = f\"{karabo_id}/CAM/CAMERA:daqOutput\"\n",
    "image_key = \"data.image.pixels\"\n",
    "\n",
    "dffc = DynamicFlatFieldCorrection.from_file(fn, karabo_id, downsample_factors)"
   ]
  },
  {
   "cell_type": "code",
   "execution_count": null,
   "id": "4d3fbedf",
   "metadata": {},
   "outputs": [],
   "source": [
    "runno = 30\n",
    "\n",
    "propdir = find_proposal(f\"p{propno:06d}\")\n",
    "rundir = os.path.join(propdir, f\"raw/r{runno:04d}\")\n",
    "\n",
    "run = RunDirectory(rundir)"
   ]
  },
  {
   "cell_type": "code",
   "execution_count": null,
   "id": "b64a2d49",
   "metadata": {
    "scrolled": false
   },
   "outputs": [],
   "source": [
    "tm0 = time.monotonic()\n",
    "\n",
    "proc = FlatFieldCorrectionFileProcessor(dffc, 32, cam_source, image_key)\n",
    "\n",
    "proc.start_workers()\n",
    "proc.run(run)\n",
    "proc.join_workers()\n",
    "\n",
    "tm1 = time.monotonic()\n",
    "print(f\"Time: {tm1 - tm0:.2f} s\")"
   ]
  },
  {
   "cell_type": "code",
   "execution_count": null,
   "id": "19cb3f25",
   "metadata": {},
   "outputs": [],
   "source": [
    "def process_run(dffc, run, source, image_key=\"data.image.pixels\"):\n",
    "    results = []\n",
    "    weights = []\n",
    "    warnflag = []\n",
    "\n",
    "    cam_data = run.select([(source, image_key)])\n",
    "    for tid, data in cam_data.trains():\n",
    "        images = data[source].get(image_key)\n",
    "        if images is None:\n",
    "            continue\n",
    "        \n",
    "        images_corr, w, warnflag_i = dffc.process(images, False)\n",
    "        results.append(images_corr)\n",
    "        weights.append(w)\n",
    "        warnflag.append(warnflag_i)\n",
    "        \n",
    "    return results, weights, warnflag\n",
    "\n",
    "tm0 = time.monotonic()\n",
    "\n",
    "#images = run[cam_source, 'data.image.pixels'].ndarray()\n",
    "r, w, warnflag = process_run(dffc, run, cam_source)\n",
    "\n",
    "tm1 = time.monotonic()\n",
    "print(f\"Time: {tm1-tm0:.2f} s\")"
   ]
  },
  {
   "cell_type": "code",
   "execution_count": null,
   "id": "c2c990c1",
   "metadata": {},
   "outputs": [],
   "source": [
    "t = 35\n",
    "i = 92\n",
    "fig, (ax1, ax2) =plt.subplots(1,2, figsize=(16, 6))\n",
    "\n",
    "ax1.matshow(proc.rdr.results[t][i], vmin=0, vmax=5)\n",
    "ax2.matshow(r[t][i], vmin=0, vmax=5)\n",
    "\n",
    "plt.show()\n",
    "\n",
    "im = plt.matshow(proc.rdr.results[t][i]-r[t][i])\n",
    "plt.colorbar(im)\n",
    "plt.show()\n",
    "np.sum(np.abs(proc.rdr.results[t][i]-r[t][i]))"
   ]
  },
  {
   "cell_type": "code",
   "execution_count": null,
   "id": "401b7102",
   "metadata": {},
   "outputs": [],
   "source": [
    "w1 = np.concatenate(w).reshape(-1, 128, 20)\n",
    "np.linalg.norm(w1[t,i]-w1[t-1,i])\n",
    "#plt.plot(w1[t-1,i])"
   ]
  },
  {
   "cell_type": "code",
   "execution_count": null,
   "id": "a4d79f0d",
   "metadata": {},
   "outputs": [],
   "source": [
    "r1 = np.concatenate(proc.rdr.results)\n",
    "r2 = np.concatenate(r)"
   ]
  },
  {
   "cell_type": "code",
   "execution_count": null,
   "id": "5026b83b",
   "metadata": {},
   "outputs": [],
   "source": [
    "x = np.sum(np.abs(r1 - r2), axis=(1,2))"
   ]
  },
  {
   "cell_type": "code",
   "execution_count": null,
   "id": "b6275f6e",
   "metadata": {},
   "outputs": [],
   "source": [
    "ic = plt.matshow(x.reshape(-1,128))#, vmax=1000)\n",
    "plt.colorbar(ic)\n",
    "\n"
   ]
  },
  {
   "cell_type": "code",
   "execution_count": null,
   "id": "38b139c3",
   "metadata": {},
   "outputs": [],
   "source": [
    "plt.hist(x.ravel(), 100)\n",
    "plt.semilogy()\n",
    "plt.show()"
   ]
  }
 ],
 "metadata": {
  "kernelspec": {
   "display_name": "Python 3 (ipykernel)",
   "language": "python",
   "name": "python3"
  },
  "language_info": {
   "codemirror_mode": {
    "name": "ipython",
    "version": 3
   },
   "file_extension": ".py",
   "mimetype": "text/x-python",
   "name": "python",
   "nbconvert_exporter": "python",
   "pygments_lexer": "ipython3",
   "version": "3.9.16"
  }
 },
 "nbformat": 4,
 "nbformat_minor": 5
}
