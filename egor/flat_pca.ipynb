{
 "cells": [
  {
   "cell_type": "code",
   "execution_count": null,
   "metadata": {},
   "outputs": [],
   "source": [
    "import os\n",
    "import h5py\n",
    "import time\n",
    "import numpy as np\n",
    "\n",
    "import matplotlib.pyplot as plt\n",
    "\n",
    "from sklearn.decomposition import PCA\n",
    "\n",
    "from extra_data import open_run, RunDirectory, H5File\n",
    "from extra_data.read_machinery import find_proposal\n",
    "\n",
    "from threadpoolctl import threadpool_limits"
   ]
  },
  {
   "cell_type": "code",
   "execution_count": null,
   "metadata": {},
   "outputs": [],
   "source": [
    "propno = 2919\n",
    "runno_dark = 59\n",
    "runno_flat = 40\n",
    "\n",
    "camno = 2\n",
    "n_components = 20\n",
    "\n",
    "cam_source = f\"SPB_EHD_HPVX2_{camno}/CAM/CAMERA:daqOutput\"\n",
    "\n",
    "propdir = find_proposal(f\"p{propno:06d}\")\n",
    "rundir_dark = os.path.join(propdir, f\"raw/r{runno_dark:04d}\")\n",
    "rundir_flat = os.path.join(propdir, f\"raw/r{runno_flat:04d}\")\n",
    "\n",
    "print(\"Proposal directory:\", propdir)\n",
    "print(\"Dark run directory:\", rundir_dark)\n",
    "print(\"Flat run directory:\", rundir_flat)\n",
    "print(\"Camera source:\", cam_source)"
   ]
  },
  {
   "cell_type": "code",
   "execution_count": null,
   "metadata": {},
   "outputs": [],
   "source": [
    "def process_dark(images):\n",
    "    return np.mean(images, axis=tuple(range(images.ndim - 2)))\n",
    "\n",
    "def process_flat(images, n_components=20):\n",
    "    flat = np.mean(images, axis=tuple(range(images.ndim - 2)))\n",
    "    nx, ny = flat.shape\n",
    "    intensity_mean = np.mean(flat)\n",
    "    intensity = np.mean(images, axis=(-2,-1)).ravel() / intensity_mean\n",
    "    flat_centered = images.reshape(-1, nx, ny) - intensity[:, None, None] * flat[None, :, :]\n",
    "    with threadpool_limits(limits=40, user_api='blas'):\n",
    "        pca = PCA(n_components=n_components, svd_solver='randomized', whiten=True)\n",
    "        pca.fit(flat_centered.reshape(-1, nx * ny))\n",
    "        \n",
    "    return flat, pca.components_.reshape(-1, nx, ny), pca.explained_variance_ratio_\n",
    "    \n",
    "def process_flat_orig(images, n_components=20):\n",
    "    flat = np.mean(images, axis=tuple(range(images.ndim - 2)))\n",
    "    nx, ny = flat.shape\n",
    "    flat_centered = images.reshape(-1, nx, ny) - flat[None, :, :]\n",
    "    with threadpool_limits(limits=40, user_api='blas'):\n",
    "        pca = PCA(n_components=n_components, svd_solver='randomized', whiten=True)\n",
    "        pca.fit(flat_centered.reshape(-1, nx * ny))\n",
    "        \n",
    "    return flat, pca.components_.reshape(-1, nx, ny), pca.explained_variance_ratio_\n",
    "    \n",
    "def plot_images(images, figsize=None):\n",
    "    nimage = len(images)\n",
    "    nrow = 4\n",
    "    ncol = nimage // 4 + int(nimage % 4 != 0)\n",
    "    \n",
    "    if figsize is None:\n",
    "        figsize = (16, 10)\n",
    "    fig, axs = plt.subplots(ncol, nrow, figsize=figsize)\n",
    "\n",
    "    for k in range(nimage):\n",
    "        ax = axs[k // nrow, k % nrow]\n",
    "        im = ax.matshow(images[k])\n",
    "        ax.axis(False)\n",
    "        fig.colorbar(im, ax=ax)\n",
    "\n",
    "    return fig, axs\n",
    "\n",
    "def write_constants(fn, source, dark, flat, components, explained_variance_ratio):\n",
    "    camera_name = source.partition('/')[0]\n",
    "    with h5py.File(fn, 'w') as f:\n",
    "        g = f.create_group(camera_name)\n",
    "        g['rank'] = len(components)\n",
    "        g['shape'] = dark.shape\n",
    "        g['mean_dark'] = dark\n",
    "        g['mean_flat'] = flat\n",
    "        g['components_matrix'] = components\n",
    "        g['explained_variance_ratio'] = explained_variance_ratio"
   ]
  },
  {
   "cell_type": "code",
   "execution_count": null,
   "metadata": {},
   "outputs": [],
   "source": [
    "tm0 = time.monotonic()\n",
    "run_dark = RunDirectory(rundir_dark)\n",
    "images_dark = run_dark[cam_source, \"data.image.pixels\"].ndarray()\n",
    "ntrain, npulse, nx, ny = images_dark.shape\n",
    "tm_rd = time.monotonic() - tm0\n",
    "\n",
    "tm0 = time.monotonic()\n",
    "dark = process_dark(images_dark)\n",
    "tm_cm = time.monotonic() - tm0\n",
    "\n",
    "print(f\"N image: {ntrain * npulse} (ntrain: {ntrain}, npulse: {npulse})\")\n",
    "print(f\"Image size: {nx} x {ny} px\")\n",
    "print(f\"Read time: {tm_rd:.2f} s, comp time: {tm_cm:.2f}\")\n",
    "\n",
    "plt.matshow(dark)\n",
    "plt.show()"
   ]
  },
  {
   "cell_type": "code",
   "execution_count": null,
   "metadata": {},
   "outputs": [],
   "source": [
    "tm0 = time.monotonic()\n",
    "run_flat = RunDirectory(rundir_flat)\n",
    "images_flat = run_flat[cam_source, \"data.image.pixels\"].ndarray()\n",
    "ntrain, npulse, nx, ny = images_flat.shape\n",
    "tm_rd = time.monotonic() - tm0\n",
    "\n",
    "tm0 = time.monotonic()\n",
    "flat, components, explained_variance_ratio = process_flat(images_flat, n_components)\n",
    "tm_cm = time.monotonic() - tm0\n",
    "\n",
    "print(f\"N image: {ntrain * npulse} (ntrain: {ntrain}, npulse: {npulse})\")\n",
    "print(f\"Image size: {nx} x {ny} px\")\n",
    "print(f\"Read time: {tm_rd:.2f} s, comp time: {tm_cm:.2f}\")\n",
    "\n",
    "fig, (ax1, ax2) = plt.subplots(1, 2, figsize=(16,5))\n",
    "ax1.matshow(flat)\n",
    "ax2.plot(explained_variance_ratio, 'o')\n",
    "plt.show()"
   ]
  },
  {
   "cell_type": "code",
   "execution_count": null,
   "metadata": {},
   "outputs": [],
   "source": [
    "fn = f\"pca_cam{camno}_d{runno_dark}_f{runno_flat}_r{n_components}.h5\"\n",
    "write_constants(fn, cam_source, dark, flat, components, explained_variance_ratio)"
   ]
  },
  {
   "cell_type": "code",
   "execution_count": null,
   "metadata": {},
   "outputs": [],
   "source": [
    "plot_images(components[:20])\n",
    "plt.show()"
   ]
  },
  {
   "cell_type": "code",
   "execution_count": null,
   "metadata": {},
   "outputs": [],
   "source": [
    "tm0 = time.monotonic()\n",
    "flat, components, explained_variance_ratio = process_flat_orig(images_flat, n_components+1)\n",
    "tm_cm = time.monotonic() - tm0\n",
    "\n",
    "print(f\"N image: {ntrain * npulse} (ntrain: {ntrain}, npulse: {npulse})\")\n",
    "print(f\"Image size: {nx} x {ny} px\")\n",
    "print(f\"Read time: {tm_rd:.2f} s, comp time: {tm_cm:.2f}\")\n",
    "\n",
    "fig, (ax1, ax2) = plt.subplots(1, 2, figsize=(16,5))\n",
    "ax1.matshow(flat)\n",
    "ax2.plot(explained_variance_ratio, 'o')\n",
    "plt.show()"
   ]
  },
  {
   "cell_type": "code",
   "execution_count": null,
   "metadata": {},
   "outputs": [],
   "source": [
    "fn = f\"pca_cam{camno}_d{runno_dark}_f{runno_flat}_r{n_components}_orig.h5\"\n",
    "write_constants(fn, cam_source, dark, flat, components, explained_variance_ratio)"
   ]
  },
  {
   "cell_type": "code",
   "execution_count": null,
   "metadata": {},
   "outputs": [],
   "source": [
    "plot_images(components[:21])\n",
    "plt.show()"
   ]
  },
  {
   "cell_type": "code",
   "execution_count": null,
   "metadata": {},
   "outputs": [],
   "source": [
    "plot_images(images_flat.reshape(-1, nx, ny)[5:128*20+5:128])\n",
    "plt.show()"
   ]
  }
 ],
 "metadata": {
  "kernelspec": {
   "display_name": "Python 3 (ipykernel)",
   "language": "python",
   "name": "python3"
  },
  "language_info": {
   "codemirror_mode": {
    "name": "ipython",
    "version": 3
   },
   "file_extension": ".py",
   "mimetype": "text/x-python",
   "name": "python",
   "nbconvert_exporter": "python",
   "pygments_lexer": "ipython3",
   "version": "3.7.3"
  }
 },
 "nbformat": 4,
 "nbformat_minor": 4
}
